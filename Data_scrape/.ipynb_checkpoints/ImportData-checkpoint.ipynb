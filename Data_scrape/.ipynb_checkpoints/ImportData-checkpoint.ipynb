{
 "cells": [
  {
   "cell_type": "code",
   "execution_count": null,
   "metadata": {},
   "outputs": [],
   "source": [
    "import os\n",
    "from bs4 import BeautifulSoup\n",
    "from selenium import webdriver\n",
    "from selenium.webdriver.common.keys import Keys\n",
    "from selenium.webdriver.common.by import By\n",
    "import time\n",
    "import sys\n",
    "import numpy as np\n",
    "import pandas as pd\n",
    "import re\n",
    "\n",
    "import requests"
   ]
  },
  {
   "cell_type": "markdown",
   "metadata": {},
   "source": [
    "chromedriver = \"/Users/ben/Documents/webdrivers/chromedriver\"# path to the chromedriver executable\n",
    "chromedriver = os.path.expanduser(chromedriver)\n",
    "\n",
    "print('chromedriver path: {}'.format(chromedriver))\n",
    "sys.path.append(chromedriver)\n",
    "\n",
    "driver = webdriver.Chrome(chromedriver)"
   ]
  },
  {
   "cell_type": "code",
   "execution_count": null,
   "metadata": {},
   "outputs": [],
   "source": [
    "#first we choose the webdriver\n",
    "driver = webdriver.Firefox()"
   ]
  },
  {
   "cell_type": "code",
   "execution_count": null,
   "metadata": {},
   "outputs": [],
   "source": [
    "# then we give it the website\n",
    "zillow_sanfran_url = \"https://www.zillow.com/homes/for_sale/20330_rid/2-_beds/799000-1400000_price/X1-SS-up3g8hr6171x_5i268_sse/\""
   ]
  },
  {
   "cell_type": "code",
   "execution_count": null,
   "metadata": {},
   "outputs": [],
   "source": [
    "def get_house_links(url, driver, pages=20):\n",
    "\n",
    "    \"\"\"this is a fun function that retuirns a list of listing urls\"\"\"\n",
    "    house_links=[]\n",
    "    driver.get(url)\n",
    "    \n",
    "    \n",
    "    #first we find the nav links\n",
    "    soup = BeautifulSoup(driver.page_source, 'html.parser')\n",
    "    next_button = soup.find_all(\"a\", class_=\"off\")\n",
    "    nav_link = ['https://www.zillow.com'+row['href'] for row in next_button][0]\n",
    "    \n",
    "    #then we set the list of nav links\n",
    "    nav_link_list = [nav_link.replace(\"2_p\",str(x)+\"_p\") for x in range(1,pages+1)]\n",
    "    \n",
    "    \n",
    "    \n",
    "    for link in nav_link_list:\n",
    "        time.sleep(np.random.lognormal(0,1))\n",
    "        driver.get(link)\n",
    "        soup = BeautifulSoup(driver.page_source, 'html.parser')\n",
    "        listings = soup.find_all(\"a\", class_=\"zsg-photo-card-overlay-link\")\n",
    "        page_data = ['https://www.zillow.com'+row['href'] for row in listings]\n",
    "        house_links.append(page_data)\n",
    "        time.sleep(np.random.lognormal(0,1))\n",
    "\n",
    "    \n",
    "    return house_links"
   ]
  },
  {
   "cell_type": "code",
   "execution_count": null,
   "metadata": {},
   "outputs": [],
   "source": [
    "homes_urls = get_house_links(zillow_sanfran_url, driver, pages=20)\n",
    "homes_urls = sum(homes_urls, [])"
   ]
  },
  {
   "cell_type": "code",
   "execution_count": null,
   "metadata": {},
   "outputs": [],
   "source": [
    "homes_urls_unique = [x for x in set(homes_urls)]\n",
    "homes_urls_unique"
   ]
  },
  {
   "cell_type": "code",
   "execution_count": null,
   "metadata": {},
   "outputs": [],
   "source": [
    "# lets do some testing to see if we can do this with requests to make this a bit easier\n",
    "driver.get(homes_urls_unique[-2])"
   ]
  },
  {
   "cell_type": "code",
   "execution_count": null,
   "metadata": {},
   "outputs": [],
   "source": [
    "soup_home = BeautifulSoup(driver.page_source, 'html.parser')"
   ]
  },
  {
   "cell_type": "code",
   "execution_count": null,
   "metadata": {},
   "outputs": [],
   "source": [
    "def find_price(soup):\n",
    "    try:\n",
    "        element = soup_home.find_all(class_='value')\n",
    "        price = element[0].text\n",
    "        price =  ''.join([x for x in price if x.isdigit()])\n",
    "        price = int(price)\n",
    "    except:\n",
    "        price = np.nan\n",
    "        \n",
    "    return price"
   ]
  },
  {
   "cell_type": "code",
   "execution_count": null,
   "metadata": {},
   "outputs": [],
   "source": [
    "find_price(soup_home)"
   ]
  },
  {
   "cell_type": "code",
   "execution_count": null,
   "metadata": {},
   "outputs": [],
   "source": [
    "home_itmes = soup_home.find(class_=\"home-details-facts-category-group-container\")\n",
    "home_itmes"
   ]
  },
  {
   "cell_type": "code",
   "execution_count": null,
   "metadata": {},
   "outputs": [],
   "source": []
  }
 ],
 "metadata": {
  "kernelspec": {
   "display_name": "Python 3",
   "language": "python",
   "name": "python3"
  },
  "language_info": {
   "codemirror_mode": {
    "name": "ipython",
    "version": 3
   },
   "file_extension": ".py",
   "mimetype": "text/x-python",
   "name": "python",
   "nbconvert_exporter": "python",
   "pygments_lexer": "ipython3",
   "version": "3.6.1"
  }
 },
 "nbformat": 4,
 "nbformat_minor": 2
}
